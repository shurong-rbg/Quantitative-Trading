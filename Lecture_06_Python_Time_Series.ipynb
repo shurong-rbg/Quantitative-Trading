{
  "nbformat": 4,
  "nbformat_minor": 0,
  "metadata": {
    "kernelspec": {
      "display_name": "Python 3",
      "language": "python",
      "name": "python3"
    },
    "language_info": {
      "codemirror_mode": {
        "name": "ipython",
        "version": 3
      },
      "file_extension": ".py",
      "mimetype": "text/x-python",
      "name": "python",
      "nbconvert_exporter": "python",
      "pygments_lexer": "ipython3",
      "version": "3.8.6"
    },
    "colab": {
      "name": "Lecture 06 Python - Time Series.ipynb",
      "provenance": []
    }
  },
  "cells": [
    {
      "cell_type": "markdown",
      "metadata": {
        "id": "VBPgHKVEHxYJ"
      },
      "source": [
        "# Time series regressions\n",
        "* This book demonstrates basic time series tests, which are a subset of the time-series tests discussed in class.\n",
        "* I demonstrate the variance risk premium. For the homework you will analyze the G/P ratio.\n"
      ]
    },
    {
      "cell_type": "code",
      "metadata": {
        "colab": {
          "base_uri": "https://localhost:8080/"
        },
        "id": "RDiwzJEUH3qq",
        "outputId": "e89f351c-842c-4a2e-ca35-2a1485f33d2f"
      },
      "source": [
        "!pip install stargazer\r\n",
        "!pip install FixedEffectModel"
      ],
      "execution_count": null,
      "outputs": [
        {
          "output_type": "stream",
          "text": [
            "Collecting stargazer\n",
            "  Downloading https://files.pythonhosted.org/packages/28/32/fbd3d359cdc12dcdceb556bd40ab967878ad63b8a05445148ad1d2389573/stargazer-0.0.5-py3-none-any.whl\n",
            "Installing collected packages: stargazer\n",
            "Successfully installed stargazer-0.0.5\n",
            "Collecting FixedEffectModel\n",
            "  Downloading https://files.pythonhosted.org/packages/d3/ea/66b77e110d8ee2b60ffa23631258b817d61f7bf7c4fca953a9a5f1a9c532/FixedEffectModel-0.0.2.tar.gz\n",
            "Requirement already satisfied: pandas>=0.16.0 in /usr/local/lib/python3.7/dist-packages (from FixedEffectModel) (1.1.5)\n",
            "Requirement already satisfied: numpy>=1.9.2 in /usr/local/lib/python3.7/dist-packages (from FixedEffectModel) (1.19.5)\n",
            "Requirement already satisfied: scipy in /usr/local/lib/python3.7/dist-packages (from FixedEffectModel) (1.4.1)\n",
            "Requirement already satisfied: statsmodels in /usr/local/lib/python3.7/dist-packages (from FixedEffectModel) (0.10.2)\n",
            "Requirement already satisfied: networkx in /usr/local/lib/python3.7/dist-packages (from FixedEffectModel) (2.5)\n",
            "Requirement already satisfied: python-dateutil>=2.7.3 in /usr/local/lib/python3.7/dist-packages (from pandas>=0.16.0->FixedEffectModel) (2.8.1)\n",
            "Requirement already satisfied: pytz>=2017.2 in /usr/local/lib/python3.7/dist-packages (from pandas>=0.16.0->FixedEffectModel) (2018.9)\n",
            "Requirement already satisfied: patsy>=0.4.0 in /usr/local/lib/python3.7/dist-packages (from statsmodels->FixedEffectModel) (0.5.1)\n",
            "Requirement already satisfied: decorator>=4.3.0 in /usr/local/lib/python3.7/dist-packages (from networkx->FixedEffectModel) (4.4.2)\n",
            "Requirement already satisfied: six>=1.5 in /usr/local/lib/python3.7/dist-packages (from python-dateutil>=2.7.3->pandas>=0.16.0->FixedEffectModel) (1.15.0)\n",
            "Building wheels for collected packages: FixedEffectModel\n",
            "  Building wheel for FixedEffectModel (setup.py) ... \u001b[?25l\u001b[?25hdone\n",
            "  Created wheel for FixedEffectModel: filename=FixedEffectModel-0.0.2-cp37-none-any.whl size=22434 sha256=cea1d0a72ca365b377e5355ed07ca883f2960f59716c101fe2bdba185a5fc57d\n",
            "  Stored in directory: /root/.cache/pip/wheels/85/67/e4/e33b91f5f553822c72d6cfc9bec053cf17c1f14798afcfd11a\n",
            "Successfully built FixedEffectModel\n",
            "Installing collected packages: FixedEffectModel\n",
            "Successfully installed FixedEffectModel-0.0.2\n"
          ],
          "name": "stdout"
        }
      ]
    },
    {
      "cell_type": "code",
      "metadata": {
        "id": "qTSGYxJ1HxYR",
        "colab": {
          "base_uri": "https://localhost:8080/"
        },
        "outputId": "6a6ca5f3-f4e4-4d06-8e8e-e18906877c81"
      },
      "source": [
        "import pandas as pd # data frames wrangling\n",
        "import numpy as np # fast and vectorized math functions\n",
        "import scipy as sp # scientific calculation toolkit\n",
        "from sklearn.decomposition import PCA\n",
        "import statsmodels.api as sm # statistical models including regression\n",
        "import statsmodels.formula.api as smf\n",
        "import os\n",
        "from stargazer.stargazer import Stargazer\n",
        "import FixedEffectModel.api as FEM\n",
        "# import linearmodels as lm # linear models including panel OLS\n",
        "import os # operating system operations like check files existance\n",
        "import gc # garbage collector\n",
        "import time # time related utility functions\n",
        "import warnings\n",
        "import matplotlib.pyplot as plt # MATLAB-like plotting library\n",
        "plt.rcParams[\"figure.figsize\"] = (10.5, 6)\n",
        "\n",
        "from IPython.core.interactiveshell import InteractiveShell\n",
        "\n",
        "InteractiveShell.ast_node_interactivity = \"all\"  # multiple output per jupyter notebook code block\n",
        "get_ipython().run_line_magic('matplotlib', 'inline')\n",
        "warnings.simplefilter(action=\"ignore\", category=pd.core.common.SettingWithCopyWarning)"
      ],
      "execution_count": null,
      "outputs": [
        {
          "output_type": "stream",
          "text": [
            "/usr/local/lib/python3.7/dist-packages/statsmodels/tools/_testing.py:19: FutureWarning: pandas.util.testing is deprecated. Use the functions in the public API at pandas.testing instead.\n",
            "  import pandas.util.testing as tm\n"
          ],
          "name": "stderr"
        }
      ]
    },
    {
      "cell_type": "code",
      "metadata": {
        "id": "bkWbTJrqHzav"
      },
      "source": [
        ""
      ],
      "execution_count": null,
      "outputs": []
    },
    {
      "cell_type": "code",
      "metadata": {
        "colab": {
          "base_uri": "https://localhost:8080/"
        },
        "id": "wIfszyomH7Ve",
        "outputId": "f976e9f8-a8f2-4997-989c-86b4668c726b"
      },
      "source": [
        "from google.colab import drive\n",
        "drive.mount('/content/drive')"
      ],
      "execution_count": null,
      "outputs": [
        {
          "output_type": "stream",
          "text": [
            "Mounted at /content/drive\n"
          ],
          "name": "stdout"
        }
      ]
    },
    {
      "cell_type": "code",
      "metadata": {
        "id": "oZzAzOQxIaWc"
      },
      "source": [
        "os.chdir('/content/drive/MyDrive/data_lectures')"
      ],
      "execution_count": null,
      "outputs": []
    },
    {
      "cell_type": "markdown",
      "metadata": {
        "id": "nio2SjYmHxYS"
      },
      "source": [
        ""
      ]
    },
    {
      "cell_type": "code",
      "metadata": {
        "colab": {
          "base_uri": "https://localhost:8080/",
          "height": 204
        },
        "id": "Q3sk4aXoHxYT",
        "outputId": "81a0030d-9172-4ed3-eb43-08ea90363ec5"
      },
      "source": [
        "# TSMOM metrics\n",
        "\n",
        "tsmom = pd.read_excel(\n",
        "    'Time Series Momentum Factors Monthly New.xlsx',\n",
        "    sheet_name='TSMOM Factors', #time series momentum\n",
        "    skiprows=17\n",
        ")\n",
        "\n",
        "tsmom.head()"
      ],
      "execution_count": null,
      "outputs": [
        {
          "output_type": "execute_result",
          "data": {
            "text/html": [
              "<div>\n",
              "<style scoped>\n",
              "    .dataframe tbody tr th:only-of-type {\n",
              "        vertical-align: middle;\n",
              "    }\n",
              "\n",
              "    .dataframe tbody tr th {\n",
              "        vertical-align: top;\n",
              "    }\n",
              "\n",
              "    .dataframe thead th {\n",
              "        text-align: right;\n",
              "    }\n",
              "</style>\n",
              "<table border=\"1\" class=\"dataframe\">\n",
              "  <thead>\n",
              "    <tr style=\"text-align: right;\">\n",
              "      <th></th>\n",
              "      <th>Date</th>\n",
              "      <th>TSMOM</th>\n",
              "      <th>TSMOM^CM</th>\n",
              "      <th>TSMOM^EQ</th>\n",
              "      <th>TSMOM^FI</th>\n",
              "      <th>TSMOM^FX</th>\n",
              "    </tr>\n",
              "  </thead>\n",
              "  <tbody>\n",
              "    <tr>\n",
              "      <th>0</th>\n",
              "      <td>01/31/1985</td>\n",
              "      <td>0.043066</td>\n",
              "      <td>-0.014042</td>\n",
              "      <td>0.153376</td>\n",
              "      <td>-0.015625</td>\n",
              "      <td>0.056041</td>\n",
              "    </tr>\n",
              "    <tr>\n",
              "      <th>1</th>\n",
              "      <td>02/28/1985</td>\n",
              "      <td>0.038128</td>\n",
              "      <td>0.047449</td>\n",
              "      <td>0.043061</td>\n",
              "      <td>-0.193815</td>\n",
              "      <td>0.099316</td>\n",
              "    </tr>\n",
              "    <tr>\n",
              "      <th>2</th>\n",
              "      <td>03/29/1985</td>\n",
              "      <td>-0.052719</td>\n",
              "      <td>-0.083491</td>\n",
              "      <td>0.032803</td>\n",
              "      <td>0.071045</td>\n",
              "      <td>-0.117085</td>\n",
              "    </tr>\n",
              "    <tr>\n",
              "      <th>3</th>\n",
              "      <td>04/30/1985</td>\n",
              "      <td>0.039634</td>\n",
              "      <td>0.060051</td>\n",
              "      <td>0.024413</td>\n",
              "      <td>0.047500</td>\n",
              "      <td>0.019504</td>\n",
              "    </tr>\n",
              "    <tr>\n",
              "      <th>4</th>\n",
              "      <td>05/31/1985</td>\n",
              "      <td>0.063918</td>\n",
              "      <td>0.045516</td>\n",
              "      <td>0.121216</td>\n",
              "      <td>0.144524</td>\n",
              "      <td>0.020146</td>\n",
              "    </tr>\n",
              "  </tbody>\n",
              "</table>\n",
              "</div>"
            ],
            "text/plain": [
              "         Date     TSMOM  TSMOM^CM  TSMOM^EQ  TSMOM^FI  TSMOM^FX\n",
              "0  01/31/1985  0.043066 -0.014042  0.153376 -0.015625  0.056041\n",
              "1  02/28/1985  0.038128  0.047449  0.043061 -0.193815  0.099316\n",
              "2  03/29/1985 -0.052719 -0.083491  0.032803  0.071045 -0.117085\n",
              "3  04/30/1985  0.039634  0.060051  0.024413  0.047500  0.019504\n",
              "4  05/31/1985  0.063918  0.045516  0.121216  0.144524  0.020146"
            ]
          },
          "metadata": {
            "tags": []
          },
          "execution_count": 12
        }
      ]
    },
    {
      "cell_type": "code",
      "metadata": {
        "colab": {
          "base_uri": "https://localhost:8080/",
          "height": 606
        },
        "id": "8bbTid1ZHxYU",
        "outputId": "f9d7cb1a-1764-431c-9584-e24aff78c812"
      },
      "source": [
        "plt.rcParams[\"figure.figsize\"] = (10.5, 6)\n",
        "\n",
        "((tsmom.set_index('Date', drop = True) + 1).cumprod() - 1).head()\n",
        "\n",
        "ax = np.log10((tsmom.set_index('Date', drop = True) + 1).cumprod()).plot() #log10 scale flatts things \n",
        "ax.grid(axis='y')\n",
        "#the back-test of this paper is credible\n",
        "#green line is flat since financial crisis, fixed income market is the only except"
      ],
      "execution_count": null,
      "outputs": [
        {
          "output_type": "execute_result",
          "data": {
            "text/html": [
              "<div>\n",
              "<style scoped>\n",
              "    .dataframe tbody tr th:only-of-type {\n",
              "        vertical-align: middle;\n",
              "    }\n",
              "\n",
              "    .dataframe tbody tr th {\n",
              "        vertical-align: top;\n",
              "    }\n",
              "\n",
              "    .dataframe thead th {\n",
              "        text-align: right;\n",
              "    }\n",
              "</style>\n",
              "<table border=\"1\" class=\"dataframe\">\n",
              "  <thead>\n",
              "    <tr style=\"text-align: right;\">\n",
              "      <th></th>\n",
              "      <th>TSMOM</th>\n",
              "      <th>TSMOM^CM</th>\n",
              "      <th>TSMOM^EQ</th>\n",
              "      <th>TSMOM^FI</th>\n",
              "      <th>TSMOM^FX</th>\n",
              "    </tr>\n",
              "    <tr>\n",
              "      <th>Date</th>\n",
              "      <th></th>\n",
              "      <th></th>\n",
              "      <th></th>\n",
              "      <th></th>\n",
              "      <th></th>\n",
              "    </tr>\n",
              "  </thead>\n",
              "  <tbody>\n",
              "    <tr>\n",
              "      <th>01/31/1985</th>\n",
              "      <td>0.043066</td>\n",
              "      <td>-0.014042</td>\n",
              "      <td>0.153376</td>\n",
              "      <td>-0.015625</td>\n",
              "      <td>0.056041</td>\n",
              "    </tr>\n",
              "    <tr>\n",
              "      <th>02/28/1985</th>\n",
              "      <td>0.082836</td>\n",
              "      <td>0.032740</td>\n",
              "      <td>0.203041</td>\n",
              "      <td>-0.206412</td>\n",
              "      <td>0.160922</td>\n",
              "    </tr>\n",
              "    <tr>\n",
              "      <th>03/29/1985</th>\n",
              "      <td>0.025750</td>\n",
              "      <td>-0.053484</td>\n",
              "      <td>0.242505</td>\n",
              "      <td>-0.150031</td>\n",
              "      <td>0.024995</td>\n",
              "    </tr>\n",
              "    <tr>\n",
              "      <th>04/30/1985</th>\n",
              "      <td>0.066405</td>\n",
              "      <td>0.003355</td>\n",
              "      <td>0.272838</td>\n",
              "      <td>-0.109658</td>\n",
              "      <td>0.044987</td>\n",
              "    </tr>\n",
              "    <tr>\n",
              "      <th>05/31/1985</th>\n",
              "      <td>0.134568</td>\n",
              "      <td>0.049024</td>\n",
              "      <td>0.427126</td>\n",
              "      <td>0.019018</td>\n",
              "      <td>0.066040</td>\n",
              "    </tr>\n",
              "  </tbody>\n",
              "</table>\n",
              "</div>"
            ],
            "text/plain": [
              "               TSMOM  TSMOM^CM  TSMOM^EQ  TSMOM^FI  TSMOM^FX\n",
              "Date                                                        \n",
              "01/31/1985  0.043066 -0.014042  0.153376 -0.015625  0.056041\n",
              "02/28/1985  0.082836  0.032740  0.203041 -0.206412  0.160922\n",
              "03/29/1985  0.025750 -0.053484  0.242505 -0.150031  0.024995\n",
              "04/30/1985  0.066405  0.003355  0.272838 -0.109658  0.044987\n",
              "05/31/1985  0.134568  0.049024  0.427126  0.019018  0.066040"
            ]
          },
          "metadata": {
            "tags": []
          },
          "execution_count": 13
        },
        {
          "output_type": "display_data",
          "data": {
            "image/png": "[encoded data removed]",
            "text/plain": [
              "<Figure size 756x432 with 1 Axes>"
            ]
          },
          "metadata": {
            "tags": [],
            "needs_background": "light"
          }
        }
      ]
    },
    {
      "cell_type": "code",
      "metadata": {
        "colab": {
          "base_uri": "https://localhost:8080/",
          "height": 406
        },
        "id": "2B_iXvvYHxYV",
        "outputId": "b8f27ca5-a17e-4c22-d4a9-9b8432cde029"
      },
      "source": [
        "'lets just subtract 25bps transaction cost at each step'\n",
        "\n",
        "ax = np.log10((tsmom.set_index('Date', drop = True) + 1 - .0025).cumprod()).plot()\n",
        "ax.grid(axis='y')"
      ],
      "execution_count": null,
      "outputs": [
        {
          "output_type": "execute_result",
          "data": {
            "application/vnd.google.colaboratory.intrinsic+json": {
              "type": "string"
            },
            "text/plain": [
              "'lets just subtract 25bps transaction cost at each step'"
            ]
          },
          "metadata": {
            "tags": []
          },
          "execution_count": 14
        },
        {
          "output_type": "display_data",
          "data": {
            "image/png": "[encoded data removed]",
            "text/plain": [
              "<Figure size 756x432 with 1 Axes>"
            ]
          },
          "metadata": {
            "tags": [],
            "needs_background": "light"
          }
        }
      ]
    },
    {
      "cell_type": "code",
      "metadata": {
        "id": "lx9q3PSJHxYV"
      },
      "source": [
        "def end_of_month(x):\n",
        "    if not (isinstance(x, pd.Series)):\n",
        "        return str((pd.to_datetime(x) + pd.tseries.offsets.MonthEnd(0)).date())\n",
        "    return (pd.to_datetime(x) + pd.tseries.offsets.MonthEnd(0)).apply(lambda x: str(x.date()))"
      ],
      "execution_count": null,
      "outputs": []
    },
    {
      "cell_type": "code",
      "metadata": {
        "colab": {
          "base_uri": "https://localhost:8080/",
          "height": 204
        },
        "id": "H_Re2zbFHxYW",
        "outputId": "8871984b-064c-4943-849a-1931f7bdd81e"
      },
      "source": [
        "ff4_file = 'ff_four_factor_monthly.parquet'\r\n",
        "\r\n",
        "ff4=pd.read_parquet(ff4_file)\r\n",
        "\r\n",
        "dta=ff4.index\r\n",
        "ff4=ff4.reset_index()\r\n",
        "ff4['date']=dta\r\n",
        "ff4.head()"
      ],
      "execution_count": null,
      "outputs": [
        {
          "output_type": "execute_result",
          "data": {
            "text/html": [
              "<div>\n",
              "<style scoped>\n",
              "    .dataframe tbody tr th:only-of-type {\n",
              "        vertical-align: middle;\n",
              "    }\n",
              "\n",
              "    .dataframe tbody tr th {\n",
              "        vertical-align: top;\n",
              "    }\n",
              "\n",
              "    .dataframe thead th {\n",
              "        text-align: right;\n",
              "    }\n",
              "</style>\n",
              "<table border=\"1\" class=\"dataframe\">\n",
              "  <thead>\n",
              "    <tr style=\"text-align: right;\">\n",
              "      <th></th>\n",
              "      <th>date</th>\n",
              "      <th>mkt_rf</th>\n",
              "      <th>smb</th>\n",
              "      <th>hml</th>\n",
              "      <th>rf</th>\n",
              "      <th>mom</th>\n",
              "    </tr>\n",
              "  </thead>\n",
              "  <tbody>\n",
              "    <tr>\n",
              "      <th>0</th>\n",
              "      <td>1926-07-31</td>\n",
              "      <td>0.028846</td>\n",
              "      <td>-0.022300</td>\n",
              "      <td>-0.028580</td>\n",
              "      <td>0.002252</td>\n",
              "      <td>0.000000</td>\n",
              "    </tr>\n",
              "    <tr>\n",
              "      <th>1</th>\n",
              "      <td>1926-08-31</td>\n",
              "      <td>0.026697</td>\n",
              "      <td>-0.013359</td>\n",
              "      <td>0.040830</td>\n",
              "      <td>0.002603</td>\n",
              "      <td>0.000000</td>\n",
              "    </tr>\n",
              "    <tr>\n",
              "      <th>2</th>\n",
              "      <td>1926-09-30</td>\n",
              "      <td>0.003724</td>\n",
              "      <td>-0.012803</td>\n",
              "      <td>-0.000864</td>\n",
              "      <td>0.002162</td>\n",
              "      <td>0.000000</td>\n",
              "    </tr>\n",
              "    <tr>\n",
              "      <th>3</th>\n",
              "      <td>1926-10-31</td>\n",
              "      <td>-0.033011</td>\n",
              "      <td>-0.000574</td>\n",
              "      <td>0.006766</td>\n",
              "      <td>0.003255</td>\n",
              "      <td>0.000000</td>\n",
              "    </tr>\n",
              "    <tr>\n",
              "      <th>4</th>\n",
              "      <td>1926-11-30</td>\n",
              "      <td>0.025847</td>\n",
              "      <td>-0.002349</td>\n",
              "      <td>-0.004590</td>\n",
              "      <td>0.003125</td>\n",
              "      <td>0.014084</td>\n",
              "    </tr>\n",
              "  </tbody>\n",
              "</table>\n",
              "</div>"
            ],
            "text/plain": [
              "         date    mkt_rf       smb       hml        rf       mom\n",
              "0  1926-07-31  0.028846 -0.022300 -0.028580  0.002252  0.000000\n",
              "1  1926-08-31  0.026697 -0.013359  0.040830  0.002603  0.000000\n",
              "2  1926-09-30  0.003724 -0.012803 -0.000864  0.002162  0.000000\n",
              "3  1926-10-31 -0.033011 -0.000574  0.006766  0.003255  0.000000\n",
              "4  1926-11-30  0.025847 -0.002349 -0.004590  0.003125  0.014084"
            ]
          },
          "metadata": {
            "tags": []
          },
          "execution_count": 26
        }
      ]
    },
    {
      "cell_type": "code",
      "metadata": {
        "colab": {
          "base_uri": "https://localhost:8080/",
          "height": 391
        },
        "id": "VLnjlgX3HxYW",
        "outputId": "6b67a55d-3357-49d2-aac8-384e43f7ed99"
      },
      "source": [
        "\n",
        "\n",
        "ff4 = (\n",
        "    ff4\n",
        "    .assign(date=lambda d: end_of_month(d['date']))\n",
        "    .groupby('date')\n",
        "    .apply(lambda d: d.apply(lambda s: (s+1).prod(skipna = False) - 1))\n",
        "    .reset_index()\n",
        ")\n",
        "ff4.rename(columns = {'date': 'Date'}, inplace = True)\n",
        "ff4.head()\n",
        "\n",
        "tsmom['Date'] = tsmom['Date'].apply(end_of_month)\n",
        "\n",
        "merged_mom = pd.merge(ff4, tsmom, on='Date')\n",
        "\n",
        "merged_mom.head()"
      ],
      "execution_count": null,
      "outputs": [
        {
          "output_type": "execute_result",
          "data": {
            "text/html": [
              "<div>\n",
              "<style scoped>\n",
              "    .dataframe tbody tr th:only-of-type {\n",
              "        vertical-align: middle;\n",
              "    }\n",
              "\n",
              "    .dataframe tbody tr th {\n",
              "        vertical-align: top;\n",
              "    }\n",
              "\n",
              "    .dataframe thead th {\n",
              "        text-align: right;\n",
              "    }\n",
              "</style>\n",
              "<table border=\"1\" class=\"dataframe\">\n",
              "  <thead>\n",
              "    <tr style=\"text-align: right;\">\n",
              "      <th></th>\n",
              "      <th>Date</th>\n",
              "      <th>mkt_rf</th>\n",
              "      <th>smb</th>\n",
              "      <th>hml</th>\n",
              "      <th>rf</th>\n",
              "      <th>mom</th>\n",
              "    </tr>\n",
              "  </thead>\n",
              "  <tbody>\n",
              "    <tr>\n",
              "      <th>0</th>\n",
              "      <td>1926-07-31</td>\n",
              "      <td>0.028846</td>\n",
              "      <td>-0.022300</td>\n",
              "      <td>-0.028580</td>\n",
              "      <td>0.002252</td>\n",
              "      <td>0.000000</td>\n",
              "    </tr>\n",
              "    <tr>\n",
              "      <th>1</th>\n",
              "      <td>1926-08-31</td>\n",
              "      <td>0.026697</td>\n",
              "      <td>-0.013359</td>\n",
              "      <td>0.040830</td>\n",
              "      <td>0.002603</td>\n",
              "      <td>0.000000</td>\n",
              "    </tr>\n",
              "    <tr>\n",
              "      <th>2</th>\n",
              "      <td>1926-09-30</td>\n",
              "      <td>0.003724</td>\n",
              "      <td>-0.012803</td>\n",
              "      <td>-0.000864</td>\n",
              "      <td>0.002162</td>\n",
              "      <td>0.000000</td>\n",
              "    </tr>\n",
              "    <tr>\n",
              "      <th>3</th>\n",
              "      <td>1926-10-31</td>\n",
              "      <td>-0.033011</td>\n",
              "      <td>-0.000574</td>\n",
              "      <td>0.006766</td>\n",
              "      <td>0.003255</td>\n",
              "      <td>0.000000</td>\n",
              "    </tr>\n",
              "    <tr>\n",
              "      <th>4</th>\n",
              "      <td>1926-11-30</td>\n",
              "      <td>0.025847</td>\n",
              "      <td>-0.002349</td>\n",
              "      <td>-0.004590</td>\n",
              "      <td>0.003125</td>\n",
              "      <td>0.014084</td>\n",
              "    </tr>\n",
              "  </tbody>\n",
              "</table>\n",
              "</div>"
            ],
            "text/plain": [
              "         Date    mkt_rf       smb       hml        rf       mom\n",
              "0  1926-07-31  0.028846 -0.022300 -0.028580  0.002252  0.000000\n",
              "1  1926-08-31  0.026697 -0.013359  0.040830  0.002603  0.000000\n",
              "2  1926-09-30  0.003724 -0.012803 -0.000864  0.002162  0.000000\n",
              "3  1926-10-31 -0.033011 -0.000574  0.006766  0.003255  0.000000\n",
              "4  1926-11-30  0.025847 -0.002349 -0.004590  0.003125  0.014084"
            ]
          },
          "metadata": {
            "tags": []
          },
          "execution_count": 34
        },
        {
          "output_type": "execute_result",
          "data": {
            "text/html": [
              "<div>\n",
              "<style scoped>\n",
              "    .dataframe tbody tr th:only-of-type {\n",
              "        vertical-align: middle;\n",
              "    }\n",
              "\n",
              "    .dataframe tbody tr th {\n",
              "        vertical-align: top;\n",
              "    }\n",
              "\n",
              "    .dataframe thead th {\n",
              "        text-align: right;\n",
              "    }\n",
              "</style>\n",
              "<table border=\"1\" class=\"dataframe\">\n",
              "  <thead>\n",
              "    <tr style=\"text-align: right;\">\n",
              "      <th></th>\n",
              "      <th>Date</th>\n",
              "      <th>mkt_rf</th>\n",
              "      <th>smb</th>\n",
              "      <th>hml</th>\n",
              "      <th>rf</th>\n",
              "      <th>mom</th>\n",
              "      <th>TSMOM</th>\n",
              "      <th>TSMOM^CM</th>\n",
              "      <th>TSMOM^EQ</th>\n",
              "      <th>TSMOM^FI</th>\n",
              "      <th>TSMOM^FX</th>\n",
              "    </tr>\n",
              "  </thead>\n",
              "  <tbody>\n",
              "    <tr>\n",
              "      <th>0</th>\n",
              "      <td>1985-01-31</td>\n",
              "      <td>0.079369</td>\n",
              "      <td>0.028996</td>\n",
              "      <td>-0.049145</td>\n",
              "      <td>0.006399</td>\n",
              "      <td>-0.064276</td>\n",
              "      <td>0.043066</td>\n",
              "      <td>-0.014042</td>\n",
              "      <td>0.153376</td>\n",
              "      <td>-0.015625</td>\n",
              "      <td>0.056041</td>\n",
              "    </tr>\n",
              "    <tr>\n",
              "      <th>1</th>\n",
              "      <td>1985-02-28</td>\n",
              "      <td>0.012077</td>\n",
              "      <td>0.005254</td>\n",
              "      <td>-0.004266</td>\n",
              "      <td>0.005715</td>\n",
              "      <td>0.006963</td>\n",
              "      <td>0.038128</td>\n",
              "      <td>0.047449</td>\n",
              "      <td>0.043061</td>\n",
              "      <td>-0.193815</td>\n",
              "      <td>0.099316</td>\n",
              "    </tr>\n",
              "    <tr>\n",
              "      <th>2</th>\n",
              "      <td>1985-03-31</td>\n",
              "      <td>-0.008269</td>\n",
              "      <td>-0.012258</td>\n",
              "      <td>0.041466</td>\n",
              "      <td>0.006108</td>\n",
              "      <td>0.018931</td>\n",
              "      <td>-0.052719</td>\n",
              "      <td>-0.083491</td>\n",
              "      <td>0.032803</td>\n",
              "      <td>0.071045</td>\n",
              "      <td>-0.117085</td>\n",
              "    </tr>\n",
              "    <tr>\n",
              "      <th>3</th>\n",
              "      <td>1985-04-30</td>\n",
              "      <td>-0.009539</td>\n",
              "      <td>0.001140</td>\n",
              "      <td>0.038108</td>\n",
              "      <td>0.007164</td>\n",
              "      <td>0.033393</td>\n",
              "      <td>0.039634</td>\n",
              "      <td>0.060051</td>\n",
              "      <td>0.024413</td>\n",
              "      <td>0.047500</td>\n",
              "      <td>0.019504</td>\n",
              "    </tr>\n",
              "    <tr>\n",
              "      <th>4</th>\n",
              "      <td>1985-05-31</td>\n",
              "      <td>0.050585</td>\n",
              "      <td>-0.021640</td>\n",
              "      <td>-0.008767</td>\n",
              "      <td>0.006621</td>\n",
              "      <td>0.044996</td>\n",
              "      <td>0.063918</td>\n",
              "      <td>0.045516</td>\n",
              "      <td>0.121216</td>\n",
              "      <td>0.144524</td>\n",
              "      <td>0.020146</td>\n",
              "    </tr>\n",
              "  </tbody>\n",
              "</table>\n",
              "</div>"
            ],
            "text/plain": [
              "         Date    mkt_rf       smb  ...  TSMOM^EQ  TSMOM^FI  TSMOM^FX\n",
              "0  1985-01-31  0.079369  0.028996  ...  0.153376 -0.015625  0.056041\n",
              "1  1985-02-28  0.012077  0.005254  ...  0.043061 -0.193815  0.099316\n",
              "2  1985-03-31 -0.008269 -0.012258  ...  0.032803  0.071045 -0.117085\n",
              "3  1985-04-30 -0.009539  0.001140  ...  0.024413  0.047500  0.019504\n",
              "4  1985-05-31  0.050585 -0.021640  ...  0.121216  0.144524  0.020146\n",
              "\n",
              "[5 rows x 11 columns]"
            ]
          },
          "metadata": {
            "tags": []
          },
          "execution_count": 34
        }
      ]
    },
    {
      "cell_type": "code",
      "metadata": {
        "colab": {
          "base_uri": "https://localhost:8080/",
          "height": 444
        },
        "id": "UwwHwZYaHxYW",
        "outputId": "a7035978-7b22-4583-e72d-8efb79fd24ea"
      },
      "source": [
        "smf.ols(\n",
        "    'TSMOM ~ mom',\n",
        "    merged_mom\n",
        ").fit().summary()"
      ],
      "execution_count": null,
      "outputs": [
        {
          "output_type": "execute_result",
          "data": {
            "text/html": [
              "<table class=\"simpletable\">\n",
              "<caption>OLS Regression Results</caption>\n",
              "<tr>\n",
              "  <th>Dep. Variable:</th>          <td>TSMOM</td>      <th>  R-squared:         </th> <td>   0.159</td>\n",
              "</tr>\n",
              "<tr>\n",
              "  <th>Model:</th>                   <td>OLS</td>       <th>  Adj. R-squared:    </th> <td>   0.157</td>\n",
              "</tr>\n",
              "<tr>\n",
              "  <th>Method:</th>             <td>Least Squares</td>  <th>  F-statistic:       </th> <td>   79.28</td>\n",
              "</tr>\n",
              "<tr>\n",
              "  <th>Date:</th>             <td>Fri, 26 Feb 2021</td> <th>  Prob (F-statistic):</th> <td>1.66e-17</td>\n",
              "</tr>\n",
              "<tr>\n",
              "  <th>Time:</th>                 <td>02:25:51</td>     <th>  Log-Likelihood:    </th> <td>  842.93</td>\n",
              "</tr>\n",
              "<tr>\n",
              "  <th>No. Observations:</th>      <td>   420</td>      <th>  AIC:               </th> <td>  -1682.</td>\n",
              "</tr>\n",
              "<tr>\n",
              "  <th>Df Residuals:</th>          <td>   418</td>      <th>  BIC:               </th> <td>  -1674.</td>\n",
              "</tr>\n",
              "<tr>\n",
              "  <th>Df Model:</th>              <td>     1</td>      <th>                     </th>     <td> </td>   \n",
              "</tr>\n",
              "<tr>\n",
              "  <th>Covariance Type:</th>      <td>nonrobust</td>    <th>                     </th>     <td> </td>   \n",
              "</tr>\n",
              "</table>\n",
              "<table class=\"simpletable\">\n",
              "<tr>\n",
              "      <td></td>         <th>coef</th>     <th>std err</th>      <th>t</th>      <th>P>|t|</th>  <th>[0.025</th>    <th>0.975]</th>  \n",
              "</tr>\n",
              "<tr>\n",
              "  <th>Intercept</th> <td>    0.0096</td> <td>    0.002</td> <td>    5.964</td> <td> 0.000</td> <td>    0.006</td> <td>    0.013</td>\n",
              "</tr>\n",
              "<tr>\n",
              "  <th>mom</th>       <td>    0.3191</td> <td>    0.036</td> <td>    8.904</td> <td> 0.000</td> <td>    0.249</td> <td>    0.390</td>\n",
              "</tr>\n",
              "</table>\n",
              "<table class=\"simpletable\">\n",
              "<tr>\n",
              "  <th>Omnibus:</th>       <td> 2.175</td> <th>  Durbin-Watson:     </th> <td>   2.006</td>\n",
              "</tr>\n",
              "<tr>\n",
              "  <th>Prob(Omnibus):</th> <td> 0.337</td> <th>  Jarque-Bera (JB):  </th> <td>   2.187</td>\n",
              "</tr>\n",
              "<tr>\n",
              "  <th>Skew:</th>          <td> 0.016</td> <th>  Prob(JB):          </th> <td>   0.335</td>\n",
              "</tr>\n",
              "<tr>\n",
              "  <th>Kurtosis:</th>      <td> 3.352</td> <th>  Cond. No.          </th> <td>    22.5</td>\n",
              "</tr>\n",
              "</table><br/><br/>Warnings:<br/>[1] Standard Errors assume that the covariance matrix of the errors is correctly specified."
            ],
            "text/plain": [
              "<class 'statsmodels.iolib.summary.Summary'>\n",
              "\"\"\"\n",
              "                            OLS Regression Results                            \n",
              "==============================================================================\n",
              "Dep. Variable:                  TSMOM   R-squared:                       0.159\n",
              "Model:                            OLS   Adj. R-squared:                  0.157\n",
              "Method:                 Least Squares   F-statistic:                     79.28\n",
              "Date:                Fri, 26 Feb 2021   Prob (F-statistic):           1.66e-17\n",
              "Time:                        02:25:51   Log-Likelihood:                 842.93\n",
              "No. Observations:                 420   AIC:                            -1682.\n",
              "Df Residuals:                     418   BIC:                            -1674.\n",
              "Df Model:                           1                                         \n",
              "Covariance Type:            nonrobust                                         \n",
              "==============================================================================\n",
              "                 coef    std err          t      P>|t|      [0.025      0.975]\n",
              "------------------------------------------------------------------------------\n",
              "Intercept      0.0096      0.002      5.964      0.000       0.006       0.013\n",
              "mom            0.3191      0.036      8.904      0.000       0.249       0.390\n",
              "==============================================================================\n",
              "Omnibus:                        2.175   Durbin-Watson:                   2.006\n",
              "Prob(Omnibus):                  0.337   Jarque-Bera (JB):                2.187\n",
              "Skew:                           0.016   Prob(JB):                        0.335\n",
              "Kurtosis:                       3.352   Cond. No.                         22.5\n",
              "==============================================================================\n",
              "\n",
              "Warnings:\n",
              "[1] Standard Errors assume that the covariance matrix of the errors is correctly specified.\n",
              "\"\"\""
            ]
          },
          "metadata": {
            "tags": []
          },
          "execution_count": 35
        }
      ]
    },
    {
      "cell_type": "code",
      "metadata": {
        "colab": {
          "base_uri": "https://localhost:8080/",
          "height": 507
        },
        "id": "S-zagMrgHxYX",
        "outputId": "966e7198-c6cd-4033-b31b-275facdaeeba"
      },
      "source": [
        "smf.ols('TSMOM ~ mom+hml+smb+mkt_rf', merged_mom).fit().summary()\n",
        "\n",
        "l1 = smf.ols('TSMOM ~ mom+hml+smb+mkt_rf', merged_mom).fit()\n",
        "l2 = smf.ols('TSMOM ~ np.power(mom, 2)+mom+hml+smb+mkt_rf', merged_mom).fit()\n",
        "l3 = smf.ols('TSMOM ~ np.power(mom, 2)+mom+hml+smb+mkt_rf+np.power(mkt_rf, 2)', merged_mom).fit()"
      ],
      "execution_count": null,
      "outputs": [
        {
          "output_type": "execute_result",
          "data": {
            "text/html": [
              "<table class=\"simpletable\">\n",
              "<caption>OLS Regression Results</caption>\n",
              "<tr>\n",
              "  <th>Dep. Variable:</th>          <td>TSMOM</td>      <th>  R-squared:         </th> <td>   0.175</td>\n",
              "</tr>\n",
              "<tr>\n",
              "  <th>Model:</th>                   <td>OLS</td>       <th>  Adj. R-squared:    </th> <td>   0.167</td>\n",
              "</tr>\n",
              "<tr>\n",
              "  <th>Method:</th>             <td>Least Squares</td>  <th>  F-statistic:       </th> <td>   21.95</td>\n",
              "</tr>\n",
              "<tr>\n",
              "  <th>Date:</th>             <td>Fri, 26 Feb 2021</td> <th>  Prob (F-statistic):</th> <td>1.90e-16</td>\n",
              "</tr>\n",
              "<tr>\n",
              "  <th>Time:</th>                 <td>02:25:53</td>     <th>  Log-Likelihood:    </th> <td>  846.76</td>\n",
              "</tr>\n",
              "<tr>\n",
              "  <th>No. Observations:</th>      <td>   420</td>      <th>  AIC:               </th> <td>  -1684.</td>\n",
              "</tr>\n",
              "<tr>\n",
              "  <th>Df Residuals:</th>          <td>   415</td>      <th>  BIC:               </th> <td>  -1663.</td>\n",
              "</tr>\n",
              "<tr>\n",
              "  <th>Df Model:</th>              <td>     4</td>      <th>                     </th>     <td> </td>   \n",
              "</tr>\n",
              "<tr>\n",
              "  <th>Covariance Type:</th>      <td>nonrobust</td>    <th>                     </th>     <td> </td>   \n",
              "</tr>\n",
              "</table>\n",
              "<table class=\"simpletable\">\n",
              "<tr>\n",
              "      <td></td>         <th>coef</th>     <th>std err</th>      <th>t</th>      <th>P>|t|</th>  <th>[0.025</th>    <th>0.975]</th>  \n",
              "</tr>\n",
              "<tr>\n",
              "  <th>Intercept</th> <td>    0.0091</td> <td>    0.002</td> <td>    5.549</td> <td> 0.000</td> <td>    0.006</td> <td>    0.012</td>\n",
              "</tr>\n",
              "<tr>\n",
              "  <th>mom</th>       <td>    0.3303</td> <td>    0.038</td> <td>    8.753</td> <td> 0.000</td> <td>    0.256</td> <td>    0.404</td>\n",
              "</tr>\n",
              "<tr>\n",
              "  <th>hml</th>       <td>   -0.0814</td> <td>    0.059</td> <td>   -1.391</td> <td> 0.165</td> <td>   -0.196</td> <td>    0.034</td>\n",
              "</tr>\n",
              "<tr>\n",
              "  <th>smb</th>       <td>   -0.0980</td> <td>    0.055</td> <td>   -1.797</td> <td> 0.073</td> <td>   -0.205</td> <td>    0.009</td>\n",
              "</tr>\n",
              "<tr>\n",
              "  <th>mkt_rf</th>    <td>    0.0716</td> <td>    0.040</td> <td>    1.802</td> <td> 0.072</td> <td>   -0.006</td> <td>    0.150</td>\n",
              "</tr>\n",
              "</table>\n",
              "<table class=\"simpletable\">\n",
              "<tr>\n",
              "  <th>Omnibus:</th>       <td> 1.983</td> <th>  Durbin-Watson:     </th> <td>   2.011</td>\n",
              "</tr>\n",
              "<tr>\n",
              "  <th>Prob(Omnibus):</th> <td> 0.371</td> <th>  Jarque-Bera (JB):  </th> <td>   1.931</td>\n",
              "</tr>\n",
              "<tr>\n",
              "  <th>Skew:</th>          <td> 0.025</td> <th>  Prob(JB):          </th> <td>   0.381</td>\n",
              "</tr>\n",
              "<tr>\n",
              "  <th>Kurtosis:</th>      <td> 3.328</td> <th>  Cond. No.          </th> <td>    39.6</td>\n",
              "</tr>\n",
              "</table><br/><br/>Warnings:<br/>[1] Standard Errors assume that the covariance matrix of the errors is correctly specified."
            ],
            "text/plain": [
              "<class 'statsmodels.iolib.summary.Summary'>\n",
              "\"\"\"\n",
              "                            OLS Regression Results                            \n",
              "==============================================================================\n",
              "Dep. Variable:                  TSMOM   R-squared:                       0.175\n",
              "Model:                            OLS   Adj. R-squared:                  0.167\n",
              "Method:                 Least Squares   F-statistic:                     21.95\n",
              "Date:                Fri, 26 Feb 2021   Prob (F-statistic):           1.90e-16\n",
              "Time:                        02:25:53   Log-Likelihood:                 846.76\n",
              "No. Observations:                 420   AIC:                            -1684.\n",
              "Df Residuals:                     415   BIC:                            -1663.\n",
              "Df Model:                           4                                         \n",
              "Covariance Type:            nonrobust                                         \n",
              "==============================================================================\n",
              "                 coef    std err          t      P>|t|      [0.025      0.975]\n",
              "------------------------------------------------------------------------------\n",
              "Intercept      0.0091      0.002      5.549      0.000       0.006       0.012\n",
              "mom            0.3303      0.038      8.753      0.000       0.256       0.404\n",
              "hml           -0.0814      0.059     -1.391      0.165      -0.196       0.034\n",
              "smb           -0.0980      0.055     -1.797      0.073      -0.205       0.009\n",
              "mkt_rf         0.0716      0.040      1.802      0.072      -0.006       0.150\n",
              "==============================================================================\n",
              "Omnibus:                        1.983   Durbin-Watson:                   2.011\n",
              "Prob(Omnibus):                  0.371   Jarque-Bera (JB):                1.931\n",
              "Skew:                           0.025   Prob(JB):                        0.381\n",
              "Kurtosis:                       3.328   Cond. No.                         39.6\n",
              "==============================================================================\n",
              "\n",
              "Warnings:\n",
              "[1] Standard Errors assume that the covariance matrix of the errors is correctly specified.\n",
              "\"\"\""
            ]
          },
          "metadata": {
            "tags": []
          },
          "execution_count": 36
        }
      ]
    },
    {
      "cell_type": "code",
      "metadata": {
        "colab": {
          "base_uri": "https://localhost:8080/",
          "height": 567
        },
        "id": "BunL21xCHxYY",
        "outputId": "716e95b2-b444-4ef2-c07b-348be1a2a4ba"
      },
      "source": [
        "'''\n",
        "    COMMENT: this block of code displays regressions\n",
        "'''\n",
        "\n",
        "stargazer = Stargazer([l1, l2, l3])\n",
        "stargazer"
      ],
      "execution_count": null,
      "outputs": [
        {
          "output_type": "execute_result",
          "data": {
            "application/vnd.google.colaboratory.intrinsic+json": {
              "type": "string"
            },
            "text/plain": [
              "'\\n    COMMENT: this block of code displays regressions\\n'"
            ]
          },
          "metadata": {
            "tags": []
          },
          "execution_count": 42
        },
        {
          "output_type": "execute_result",
          "data": {
            "text/html": [
              "<table style=\"text-align:center\"><tr><td colspan=\"4\" style=\"border-bottom: 1px solid black\"></td></tr><tr><td style=\"text-align:left\"></td><td colspan=\"3\"><em>Dependent variable:TSMOM</em></td></tr><tr><td style=\"text-align:left\"></td><tr><td style=\"text-align:left\"></td><td>(1)</td><td>(2)</td><td>(3)</td></tr><tr><td colspan=\"4\" style=\"border-bottom: 1px solid black\"></td></tr><tr><td style=\"text-align:left\">Intercept</td><td>0.009<sup>***</sup></td><td>0.008<sup>***</sup></td><td>0.008<sup>***</sup></td></tr><tr><td style=\"text-align:left\"></td><td>(0.002)</td><td>(0.002)</td><td>(0.002)</td></tr><tr><td style=\"text-align:left\">hml</td><td>-0.081<sup></sup></td><td>-0.084<sup></sup></td><td>-0.082<sup></sup></td></tr><tr><td style=\"text-align:left\"></td><td>(0.059)</td><td>(0.058)</td><td>(0.059)</td></tr><tr><td style=\"text-align:left\">mkt_rf</td><td>0.072<sup>*</sup></td><td>0.075<sup>*</sup></td><td>0.079<sup>*</sup></td></tr><tr><td style=\"text-align:left\"></td><td>(0.040)</td><td>(0.040)</td><td>(0.041)</td></tr><tr><td style=\"text-align:left\">mom</td><td>0.330<sup>***</sup></td><td>0.341<sup>***</sup></td><td>0.342<sup>***</sup></td></tr><tr><td style=\"text-align:left\"></td><td>(0.038)</td><td>(0.038)</td><td>(0.038)</td></tr><tr><td style=\"text-align:left\">np.power(mkt_rf, 2)</td><td></td><td></td><td>0.149<sup></sup></td></tr><tr><td style=\"text-align:left\"></td><td></td><td></td><td>(0.451)</td></tr><tr><td style=\"text-align:left\">np.power(mom, 2)</td><td></td><td>0.525<sup>*</sup></td><td>0.495<sup></sup></td></tr><tr><td style=\"text-align:left\"></td><td></td><td>(0.294)</td><td>(0.307)</td></tr><tr><td style=\"text-align:left\">smb</td><td>-0.098<sup>*</sup></td><td>-0.122<sup>**</sup></td><td>-0.117<sup>**</sup></td></tr><tr><td style=\"text-align:left\"></td><td>(0.055)</td><td>(0.056)</td><td>(0.058)</td></tr><td colspan=\"4\" style=\"border-bottom: 1px solid black\"></td></tr><tr><td style=\"text-align: left\">Observations</td><td>420</td><td>420</td><td>420</td></tr><tr><td style=\"text-align: left\">R<sup>2</sup></td><td>0.175</td><td>0.181</td><td>0.181</td></tr><tr><td style=\"text-align: left\">Adjusted R<sup>2</sup></td><td>0.167</td><td>0.171</td><td>0.169</td></tr><tr><td style=\"text-align: left\">Residual Std. Error</td><td>0.032 (df=415)</td><td>0.032 (df=414)</td><td>0.032 (df=413)</td></tr><tr><td style=\"text-align: left\">F Statistic</td><td>21.947<sup>***</sup> (df=4; 415)</td><td>18.288<sup>***</sup> (df=5; 414)</td><td>15.225<sup>***</sup> (df=6; 413)</td></tr><tr><td colspan=\"4\" style=\"border-bottom: 1px solid black\"></td></tr><tr><td style=\"text-align: left\">Note:</td>\n",
              " <td colspan=\"3\" style=\"text-align: right\">\n",
              "  <sup>*</sup>p&lt;0.1;\n",
              "  <sup>**</sup>p&lt;0.05;\n",
              "  <sup>***</sup>p&lt;0.01\n",
              " </td></tr></table>"
            ],
            "text/plain": [
              "<stargazer.stargazer.Stargazer at 0x7f1b31f54690>"
            ]
          },
          "metadata": {
            "tags": []
          },
          "execution_count": 42
        }
      ]
    },
    {
      "cell_type": "code",
      "metadata": {
        "id": "PW2hw4JbHxYX"
      },
      "source": [
        "tsmom.head(20)\n"
      ],
      "execution_count": null,
      "outputs": []
    },
    {
      "cell_type": "code",
      "metadata": {
        "colab": {
          "base_uri": "https://localhost:8080/"
        },
        "id": "GT-LpIi4KgX0",
        "outputId": "c9356d16-dfeb-4bc3-94e9-7ba2777856b9"
      },
      "source": [
        "\r\n",
        "pca = PCA()\r\n",
        "pca.fit(tsmom[['TSMOM', 'TSMOM^CM', 'TSMOM^EQ', 'TSMOM^FX']].dropna())"
      ],
      "execution_count": null,
      "outputs": [
        {
          "output_type": "execute_result",
          "data": {
            "text/plain": [
              "PCA(copy=True, iterated_power='auto', n_components=None, random_state=None,\n",
              "    svd_solver='auto', tol=0.0, whiten=False)"
            ]
          },
          "metadata": {
            "tags": []
          },
          "execution_count": 43
        }
      ]
    },
    {
      "cell_type": "code",
      "metadata": {
        "colab": {
          "base_uri": "https://localhost:8080/",
          "height": 190
        },
        "id": "wD7woNGgHxYX",
        "outputId": "dead5b20-30cc-44d0-ef54-27b5d20b5717"
      },
      "source": [
        "pca.explained_variance_ratio_\n",
        "np.cumsum(pca.explained_variance_ratio_)\n",
        "pd.DataFrame(np.transpose(pca.components_), columns=['PC1', 'PC2', 'PC3', 'PC4'], index=['TSMOM', 'TSMOM^CM', 'TSMOM^EQ', 'TSMOM^FIH'])"
      ],
      "execution_count": null,
      "outputs": [
        {
          "output_type": "execute_result",
          "data": {
            "text/plain": [
              "array([0.58362983, 0.26548129, 0.13532978, 0.01555909])"
            ]
          },
          "metadata": {
            "tags": []
          },
          "execution_count": 44
        },
        {
          "output_type": "execute_result",
          "data": {
            "text/plain": [
              "array([0.58362983, 0.84911113, 0.98444091, 1.        ])"
            ]
          },
          "metadata": {
            "tags": []
          },
          "execution_count": 44
        },
        {
          "output_type": "execute_result",
          "data": {
            "text/html": [
              "<div>\n",
              "<style scoped>\n",
              "    .dataframe tbody tr th:only-of-type {\n",
              "        vertical-align: middle;\n",
              "    }\n",
              "\n",
              "    .dataframe tbody tr th {\n",
              "        vertical-align: top;\n",
              "    }\n",
              "\n",
              "    .dataframe thead th {\n",
              "        text-align: right;\n",
              "    }\n",
              "</style>\n",
              "<table border=\"1\" class=\"dataframe\">\n",
              "  <thead>\n",
              "    <tr style=\"text-align: right;\">\n",
              "      <th></th>\n",
              "      <th>PC1</th>\n",
              "      <th>PC2</th>\n",
              "      <th>PC3</th>\n",
              "      <th>PC4</th>\n",
              "    </tr>\n",
              "  </thead>\n",
              "  <tbody>\n",
              "    <tr>\n",
              "      <th>TSMOM</th>\n",
              "      <td>-0.312736</td>\n",
              "      <td>0.329268</td>\n",
              "      <td>0.215777</td>\n",
              "      <td>0.864418</td>\n",
              "    </tr>\n",
              "    <tr>\n",
              "      <th>TSMOM^CM</th>\n",
              "      <td>-0.172151</td>\n",
              "      <td>0.398875</td>\n",
              "      <td>0.799965</td>\n",
              "      <td>-0.413907</td>\n",
              "    </tr>\n",
              "    <tr>\n",
              "      <th>TSMOM^EQ</th>\n",
              "      <td>-0.901726</td>\n",
              "      <td>-0.395567</td>\n",
              "      <td>-0.077622</td>\n",
              "      <td>-0.156180</td>\n",
              "    </tr>\n",
              "    <tr>\n",
              "      <th>TSMOM^FIH</th>\n",
              "      <td>-0.243826</td>\n",
              "      <td>0.758951</td>\n",
              "      <td>-0.554501</td>\n",
              "      <td>-0.238893</td>\n",
              "    </tr>\n",
              "  </tbody>\n",
              "</table>\n",
              "</div>"
            ],
            "text/plain": [
              "                PC1       PC2       PC3       PC4\n",
              "TSMOM     -0.312736  0.329268  0.215777  0.864418\n",
              "TSMOM^CM  -0.172151  0.398875  0.799965 -0.413907\n",
              "TSMOM^EQ  -0.901726 -0.395567 -0.077622 -0.156180\n",
              "TSMOM^FIH -0.243826  0.758951 -0.554501 -0.238893"
            ]
          },
          "metadata": {
            "tags": []
          },
          "execution_count": 44
        }
      ]
    },
    {
      "cell_type": "markdown",
      "metadata": {
        "id": "Avw28De3HxYY"
      },
      "source": [
        "# implied realized gap\n",
        "* I am going to use a file that documents the implied-realized gap in volatility predicts future stock returns\n"
      ]
    },
    {
      "cell_type": "code",
      "metadata": {
        "colab": {
          "base_uri": "https://localhost:8080/",
          "height": 35
        },
        "id": "NeG1c4GjHxYY",
        "outputId": "ad76403a-855b-4554-e858-ff86c38380c0"
      },
      "source": [
        "# You may use this block of code to download the file\n",
        "\" THIS DOWNLOADS MY CLASS DEMONSTRATION FILE TO YOUR WORKING DIRECTORY\"\n",
        "vrp_data = 'vrp_class_demonstration.csv'\n",
        "\n"
      ],
      "execution_count": null,
      "outputs": [
        {
          "output_type": "execute_result",
          "data": {
            "application/vnd.google.colaboratory.intrinsic+json": {
              "type": "string"
            },
            "text/plain": [
              "' THIS DOWNLOADS MY CLASS DEMONSTRATION FILE TO YOUR WORKING DIRECTORY'"
            ]
          },
          "metadata": {
            "tags": []
          },
          "execution_count": 7
        }
      ]
    },
    {
      "cell_type": "code",
      "metadata": {
        "colab": {
          "base_uri": "https://localhost:8080/",
          "height": 199
        },
        "id": "-_tE9BGPHxYY",
        "outputId": "c6da0058-3b44-4e10-c9f8-eba7ae4f9967"
      },
      "source": [
        "# Open the file\n",
        "a = pd.read_csv(vrp_data)\n",
        "a.head()"
      ],
      "execution_count": null,
      "outputs": [
        {
          "output_type": "execute_result",
          "data": {
            "text/html": [
              "<div>\n",
              "<style scoped>\n",
              "    .dataframe tbody tr th:only-of-type {\n",
              "        vertical-align: middle;\n",
              "    }\n",
              "\n",
              "    .dataframe tbody tr th {\n",
              "        vertical-align: top;\n",
              "    }\n",
              "\n",
              "    .dataframe thead th {\n",
              "        text-align: right;\n",
              "    }\n",
              "</style>\n",
              "<table border=\"1\" class=\"dataframe\">\n",
              "  <thead>\n",
              "    <tr style=\"text-align: right;\">\n",
              "      <th></th>\n",
              "      <th>date</th>\n",
              "      <th>vix</th>\n",
              "      <th>rvol</th>\n",
              "    </tr>\n",
              "  </thead>\n",
              "  <tbody>\n",
              "    <tr>\n",
              "      <th>0</th>\n",
              "      <td>20000131</td>\n",
              "      <td>0.2495</td>\n",
              "      <td>0.189803</td>\n",
              "    </tr>\n",
              "    <tr>\n",
              "      <th>1</th>\n",
              "      <td>20000229</td>\n",
              "      <td>0.2337</td>\n",
              "      <td>0.182363</td>\n",
              "    </tr>\n",
              "    <tr>\n",
              "      <th>2</th>\n",
              "      <td>20000331</td>\n",
              "      <td>0.2411</td>\n",
              "      <td>0.210813</td>\n",
              "    </tr>\n",
              "    <tr>\n",
              "      <th>3</th>\n",
              "      <td>20000428</td>\n",
              "      <td>0.2620</td>\n",
              "      <td>0.287260</td>\n",
              "    </tr>\n",
              "    <tr>\n",
              "      <th>4</th>\n",
              "      <td>20000531</td>\n",
              "      <td>0.2365</td>\n",
              "      <td>0.216101</td>\n",
              "    </tr>\n",
              "  </tbody>\n",
              "</table>\n",
              "</div>"
            ],
            "text/plain": [
              "       date     vix      rvol\n",
              "0  20000131  0.2495  0.189803\n",
              "1  20000229  0.2337  0.182363\n",
              "2  20000331  0.2411  0.210813\n",
              "3  20000428  0.2620  0.287260\n",
              "4  20000531  0.2365  0.216101"
            ]
          },
          "metadata": {
            "tags": []
          },
          "execution_count": 8
        }
      ]
    },
    {
      "cell_type": "code",
      "metadata": {
        "id": "GyZyk_jdHxYZ"
      },
      "source": [
        ""
      ],
      "execution_count": null,
      "outputs": []
    },
    {
      "cell_type": "code",
      "metadata": {
        "id": "G9yJ5AomHxYZ"
      },
      "source": [
        "# This is the VIX + realized volatility this month. We want to predict next month's market return.\n",
        "# Step : get the market portfolio from somewhere. we have a file that has it\n",
        "# the file is ff_four_factor\n",
        "\n",
        "ff4_file='ff_four_factor.parquet'\n",
        "\n",
        "mkt = (\n",
        "    pd.read_parquet(ff4_file)\n",
        "    .assign(trading_dt=lambda d: end_of_month(d['dt']))\n",
        "    .groupby('trading_dt')\n",
        "    .apply(lambda d: \n",
        "    pd.Series({\n",
        "        'mkt_rf': (d['mkt_rf']+d['rf']+1).prod(skipna = False) - (d['rf']+1).prod(skipna = False)\n",
        "    }))\n",
        "           \n",
        "    .reset_index()\n",
        ")"
      ],
      "execution_count": null,
      "outputs": []
    },
    {
      "cell_type": "code",
      "metadata": {
        "id": "48DLHnQsHxYZ"
      },
      "source": [
        "a['trading_dt'] = end_of_month((pd.to_datetime(a['date'].apply(str)) + pd.to_timedelta(15, unit='D'))\\\n",
        "    .apply(lambda x: (str(x.date()))))"
      ],
      "execution_count": null,
      "outputs": []
    },
    {
      "cell_type": "code",
      "metadata": {
        "colab": {
          "base_uri": "https://localhost:8080/",
          "height": 221
        },
        "id": "ZPPdUGvbHxYZ",
        "outputId": "6610dd91-ddc3-4abb-c8ba-f7b92060075b"
      },
      "source": [
        "print('what the dataframe looks like now')\n",
        "a.head()"
      ],
      "execution_count": null,
      "outputs": [
        {
          "output_type": "stream",
          "text": [
            "what the dataframe looks like now\n"
          ],
          "name": "stdout"
        },
        {
          "output_type": "execute_result",
          "data": {
            "text/html": [
              "<div>\n",
              "<style scoped>\n",
              "    .dataframe tbody tr th:only-of-type {\n",
              "        vertical-align: middle;\n",
              "    }\n",
              "\n",
              "    .dataframe tbody tr th {\n",
              "        vertical-align: top;\n",
              "    }\n",
              "\n",
              "    .dataframe thead th {\n",
              "        text-align: right;\n",
              "    }\n",
              "</style>\n",
              "<table border=\"1\" class=\"dataframe\">\n",
              "  <thead>\n",
              "    <tr style=\"text-align: right;\">\n",
              "      <th></th>\n",
              "      <th>date</th>\n",
              "      <th>vix</th>\n",
              "      <th>rvol</th>\n",
              "      <th>trading_dt</th>\n",
              "    </tr>\n",
              "  </thead>\n",
              "  <tbody>\n",
              "    <tr>\n",
              "      <th>0</th>\n",
              "      <td>20000131</td>\n",
              "      <td>0.2495</td>\n",
              "      <td>0.189803</td>\n",
              "      <td>2000-02-29</td>\n",
              "    </tr>\n",
              "    <tr>\n",
              "      <th>1</th>\n",
              "      <td>20000229</td>\n",
              "      <td>0.2337</td>\n",
              "      <td>0.182363</td>\n",
              "      <td>2000-03-31</td>\n",
              "    </tr>\n",
              "    <tr>\n",
              "      <th>2</th>\n",
              "      <td>20000331</td>\n",
              "      <td>0.2411</td>\n",
              "      <td>0.210813</td>\n",
              "      <td>2000-04-30</td>\n",
              "    </tr>\n",
              "    <tr>\n",
              "      <th>3</th>\n",
              "      <td>20000428</td>\n",
              "      <td>0.2620</td>\n",
              "      <td>0.287260</td>\n",
              "      <td>2000-05-31</td>\n",
              "    </tr>\n",
              "    <tr>\n",
              "      <th>4</th>\n",
              "      <td>20000531</td>\n",
              "      <td>0.2365</td>\n",
              "      <td>0.216101</td>\n",
              "      <td>2000-06-30</td>\n",
              "    </tr>\n",
              "  </tbody>\n",
              "</table>\n",
              "</div>"
            ],
            "text/plain": [
              "       date     vix      rvol  trading_dt\n",
              "0  20000131  0.2495  0.189803  2000-02-29\n",
              "1  20000229  0.2337  0.182363  2000-03-31\n",
              "2  20000331  0.2411  0.210813  2000-04-30\n",
              "3  20000428  0.2620  0.287260  2000-05-31\n",
              "4  20000531  0.2365  0.216101  2000-06-30"
            ]
          },
          "metadata": {
            "tags": []
          },
          "execution_count": 50
        }
      ]
    },
    {
      "cell_type": "code",
      "metadata": {
        "colab": {
          "base_uri": "https://localhost:8080/",
          "height": 199
        },
        "id": "scpkEx7HHxYZ",
        "outputId": "f47c48eb-efa9-4ac2-8e3d-2a9c299f2018"
      },
      "source": [
        "# forecasting regression\n",
        "forecasting_dataset = pd.merge(mkt, a, on='trading_dt')\n",
        "forecasting_dataset.head()"
      ],
      "execution_count": null,
      "outputs": [
        {
          "output_type": "execute_result",
          "data": {
            "text/html": [
              "<div>\n",
              "<style scoped>\n",
              "    .dataframe tbody tr th:only-of-type {\n",
              "        vertical-align: middle;\n",
              "    }\n",
              "\n",
              "    .dataframe tbody tr th {\n",
              "        vertical-align: top;\n",
              "    }\n",
              "\n",
              "    .dataframe thead th {\n",
              "        text-align: right;\n",
              "    }\n",
              "</style>\n",
              "<table border=\"1\" class=\"dataframe\">\n",
              "  <thead>\n",
              "    <tr style=\"text-align: right;\">\n",
              "      <th></th>\n",
              "      <th>trading_dt</th>\n",
              "      <th>mkt_rf</th>\n",
              "      <th>date</th>\n",
              "      <th>vix</th>\n",
              "      <th>rvol</th>\n",
              "    </tr>\n",
              "  </thead>\n",
              "  <tbody>\n",
              "    <tr>\n",
              "      <th>0</th>\n",
              "      <td>2000-02-29</td>\n",
              "      <td>0.025435</td>\n",
              "      <td>20000131</td>\n",
              "      <td>0.2495</td>\n",
              "      <td>0.189803</td>\n",
              "    </tr>\n",
              "    <tr>\n",
              "      <th>1</th>\n",
              "      <td>2000-03-31</td>\n",
              "      <td>0.048878</td>\n",
              "      <td>20000229</td>\n",
              "      <td>0.2337</td>\n",
              "      <td>0.182363</td>\n",
              "    </tr>\n",
              "    <tr>\n",
              "      <th>2</th>\n",
              "      <td>2000-04-30</td>\n",
              "      <td>-0.064011</td>\n",
              "      <td>20000331</td>\n",
              "      <td>0.2411</td>\n",
              "      <td>0.210813</td>\n",
              "    </tr>\n",
              "    <tr>\n",
              "      <th>3</th>\n",
              "      <td>2000-05-31</td>\n",
              "      <td>-0.043800</td>\n",
              "      <td>20000428</td>\n",
              "      <td>0.2620</td>\n",
              "      <td>0.287260</td>\n",
              "    </tr>\n",
              "    <tr>\n",
              "      <th>4</th>\n",
              "      <td>2000-06-30</td>\n",
              "      <td>0.047064</td>\n",
              "      <td>20000531</td>\n",
              "      <td>0.2365</td>\n",
              "      <td>0.216101</td>\n",
              "    </tr>\n",
              "  </tbody>\n",
              "</table>\n",
              "</div>"
            ],
            "text/plain": [
              "   trading_dt    mkt_rf      date     vix      rvol\n",
              "0  2000-02-29  0.025435  20000131  0.2495  0.189803\n",
              "1  2000-03-31  0.048878  20000229  0.2337  0.182363\n",
              "2  2000-04-30 -0.064011  20000331  0.2411  0.210813\n",
              "3  2000-05-31 -0.043800  20000428  0.2620  0.287260\n",
              "4  2000-06-30  0.047064  20000531  0.2365  0.216101"
            ]
          },
          "metadata": {
            "tags": []
          },
          "execution_count": 13
        }
      ]
    },
    {
      "cell_type": "code",
      "metadata": {
        "id": "qsur1PtyHxYa"
      },
      "source": [
        "# let's create a variable called the implied realized gap\n",
        "forecasting_dataset = forecasting_dataset.assign(implied_realized_gap=lambda d: d['vix']-d['rvol'])"
      ],
      "execution_count": null,
      "outputs": []
    },
    {
      "cell_type": "markdown",
      "metadata": {
        "id": "onxuMBLFHxYa"
      },
      "source": [
        "# steps\n",
        "1. look at the time-series predictor - does it vary a lot over time, covarying with important times in the stock market? ideally, a leading not a lagging indicator\n",
        "1. run a simple time series regression $\\frac{1}{horizon} \\sum r_{mkt, t} -r_{f, t} = \\alpha + \\beta_1 s_{t-1}+\\epsilon_t$\n",
        "    * make sure its predictive e.g. no look ahead bias\n",
        "    * ideally, check different horizons of predictability\n",
        "1. run a rolling regression\n",
        "    * plot the coefficients\n",
        "    * out of sample R-squared"
      ]
    },
    {
      "cell_type": "code",
      "metadata": {
        "colab": {
          "base_uri": "https://localhost:8080/",
          "height": 389
        },
        "id": "jyxsH59KHxYa",
        "outputId": "068cab99-33a8-40ad-b09b-64042f5c0003"
      },
      "source": [
        "# step #1 let's plot the implied / realized gap over time\n",
        "# it looks stationary\n",
        "plt.rcParams[\"figure.figsize\"] = (10.5, 6)\n",
        "\n",
        "ax = forecasting_dataset.assign(trading_dt=lambda d: pd.to_datetime(d['trading_dt']))\\\n",
        "    .set_index('trading_dt')['implied_realized_gap'].plot()"
      ],
      "execution_count": null,
      "outputs": [
        {
          "output_type": "display_data",
          "data": {
            "image/png": "[encoded data removed]",
            "text/plain": [
              "<Figure size 756x432 with 1 Axes>"
            ]
          },
          "metadata": {
            "tags": [],
            "needs_background": "light"
          }
        }
      ]
    },
    {
      "cell_type": "code",
      "metadata": {
        "colab": {
          "base_uri": "https://localhost:8080/",
          "height": 512
        },
        "id": "eKw-NS2BHxYa",
        "outputId": "83fbeab6-3842-4a52-ec63-d2c51c58d6a6"
      },
      "source": [
        "# Okay, lets do a simple regression    \n",
        "smf.ols('mkt_rf ~ implied_realized_gap', forecasting_dataset).fit().summary()\n",
        "\n",
        "print()\n",
        "print('{} is the standard deviation of the implied realized gap'.format(forecasting_dataset['implied_realized_gap'].std()))\n",
        "print('{} is the percent change in market for a 1 standard deviation change in the\\nimplied volatility minus realized gap'\\\n",
        "          .format(np.round(forecasting_dataset['implied_realized_gap'].std()*.316277*100, 2)))\n",
        "\n",
        "#这里在复制ppt70页的做法，老师用了2007年之后的数据，得到的coef=0.3163，paper的coef=1.07"
      ],
      "execution_count": null,
      "outputs": [
        {
          "output_type": "execute_result",
          "data": {
            "text/html": [
              "<table class=\"simpletable\">\n",
              "<caption>OLS Regression Results</caption>\n",
              "<tr>\n",
              "  <th>Dep. Variable:</th>         <td>mkt_rf</td>      <th>  R-squared:         </th> <td>   0.071</td>\n",
              "</tr>\n",
              "<tr>\n",
              "  <th>Model:</th>                   <td>OLS</td>       <th>  Adj. R-squared:    </th> <td>   0.066</td>\n",
              "</tr>\n",
              "<tr>\n",
              "  <th>Method:</th>             <td>Least Squares</td>  <th>  F-statistic:       </th> <td>   14.39</td>\n",
              "</tr>\n",
              "<tr>\n",
              "  <th>Date:</th>             <td>Fri, 26 Feb 2021</td> <th>  Prob (F-statistic):</th> <td>0.000200</td>\n",
              "</tr>\n",
              "<tr>\n",
              "  <th>Time:</th>                 <td>02:29:37</td>     <th>  Log-Likelihood:    </th> <td>  325.86</td>\n",
              "</tr>\n",
              "<tr>\n",
              "  <th>No. Observations:</th>      <td>   190</td>      <th>  AIC:               </th> <td>  -647.7</td>\n",
              "</tr>\n",
              "<tr>\n",
              "  <th>Df Residuals:</th>          <td>   188</td>      <th>  BIC:               </th> <td>  -641.2</td>\n",
              "</tr>\n",
              "<tr>\n",
              "  <th>Df Model:</th>              <td>     1</td>      <th>                     </th>     <td> </td>   \n",
              "</tr>\n",
              "<tr>\n",
              "  <th>Covariance Type:</th>      <td>nonrobust</td>    <th>                     </th>     <td> </td>   \n",
              "</tr>\n",
              "</table>\n",
              "<table class=\"simpletable\">\n",
              "<tr>\n",
              "            <td></td>              <th>coef</th>     <th>std err</th>      <th>t</th>      <th>P>|t|</th>  <th>[0.025</th>    <th>0.975]</th>  \n",
              "</tr>\n",
              "<tr>\n",
              "  <th>Intercept</th>            <td>   -0.0134</td> <td>    0.005</td> <td>   -2.447</td> <td> 0.015</td> <td>   -0.024</td> <td>   -0.003</td>\n",
              "</tr>\n",
              "<tr>\n",
              "  <th>implied_realized_gap</th> <td>    0.3163</td> <td>    0.083</td> <td>    3.793</td> <td> 0.000</td> <td>    0.152</td> <td>    0.481</td>\n",
              "</tr>\n",
              "</table>\n",
              "<table class=\"simpletable\">\n",
              "<tr>\n",
              "  <th>Omnibus:</th>       <td>18.375</td> <th>  Durbin-Watson:     </th> <td>   1.821</td>\n",
              "</tr>\n",
              "<tr>\n",
              "  <th>Prob(Omnibus):</th> <td> 0.000</td> <th>  Jarque-Bera (JB):  </th> <td>  20.936</td>\n",
              "</tr>\n",
              "<tr>\n",
              "  <th>Skew:</th>          <td>-0.725</td> <th>  Prob(JB):          </th> <td>2.84e-05</td>\n",
              "</tr>\n",
              "<tr>\n",
              "  <th>Kurtosis:</th>      <td> 3.735</td> <th>  Cond. No.          </th> <td>    26.3</td>\n",
              "</tr>\n",
              "</table><br/><br/>Warnings:<br/>[1] Standard Errors assume that the covariance matrix of the errors is correctly specified."
            ],
            "text/plain": [
              "<class 'statsmodels.iolib.summary.Summary'>\n",
              "\"\"\"\n",
              "                            OLS Regression Results                            \n",
              "==============================================================================\n",
              "Dep. Variable:                 mkt_rf   R-squared:                       0.071\n",
              "Model:                            OLS   Adj. R-squared:                  0.066\n",
              "Method:                 Least Squares   F-statistic:                     14.39\n",
              "Date:                Fri, 26 Feb 2021   Prob (F-statistic):           0.000200\n",
              "Time:                        02:29:37   Log-Likelihood:                 325.86\n",
              "No. Observations:                 190   AIC:                            -647.7\n",
              "Df Residuals:                     188   BIC:                            -641.2\n",
              "Df Model:                           1                                         \n",
              "Covariance Type:            nonrobust                                         \n",
              "========================================================================================\n",
              "                           coef    std err          t      P>|t|      [0.025      0.975]\n",
              "----------------------------------------------------------------------------------------\n",
              "Intercept               -0.0134      0.005     -2.447      0.015      -0.024      -0.003\n",
              "implied_realized_gap     0.3163      0.083      3.793      0.000       0.152       0.481\n",
              "==============================================================================\n",
              "Omnibus:                       18.375   Durbin-Watson:                   1.821\n",
              "Prob(Omnibus):                  0.000   Jarque-Bera (JB):               20.936\n",
              "Skew:                          -0.725   Prob(JB):                     2.84e-05\n",
              "Kurtosis:                       3.735   Cond. No.                         26.3\n",
              "==============================================================================\n",
              "\n",
              "Warnings:\n",
              "[1] Standard Errors assume that the covariance matrix of the errors is correctly specified.\n",
              "\"\"\""
            ]
          },
          "metadata": {
            "tags": []
          },
          "execution_count": 54
        },
        {
          "output_type": "stream",
          "text": [
            "\n",
            "0.03818385201123926 is the standard deviation of the implied realized gap\n",
            "1.21 is the percent change in market for a 1 standard deviation change in the\n",
            "implied volatility minus realized gap\n"
          ],
          "name": "stdout"
        }
      ]
    },
    {
      "cell_type": "markdown",
      "metadata": {
        "id": "GZT8YXo7HxYb"
      },
      "source": [
        "# one possible interp of economic magnitude\n",
        "$\\beta * \\sigma(x)$"
      ]
    },
    {
      "cell_type": "code",
      "metadata": {
        "colab": {
          "base_uri": "https://localhost:8080/",
          "height": 202
        },
        "id": "RDasI9joHxYb",
        "outputId": "3138819b-9cdd-4771-fdcc-ceb9f084dc04"
      },
      "source": [
        "forecasting_dataset = forecasting_dataset.assign(implied_realized_gap_sq=lambda d: np.power(d['vix'], 2)-d['rvol'])\n",
        "smf.ols('mkt_rf ~ implied_realized_gap_sq', forecasting_dataset).fit().summary()"
      ],
      "execution_count": null,
      "outputs": [
        {
          "output_type": "error",
          "ename": "NameError",
          "evalue": "ignored",
          "traceback": [
            "\u001b[0;31m---------------------------------------------------------------------------\u001b[0m",
            "\u001b[0;31mNameError\u001b[0m                                 Traceback (most recent call last)",
            "\u001b[0;32m<ipython-input-1-a3b19a8774f5>\u001b[0m in \u001b[0;36m<module>\u001b[0;34m()\u001b[0m\n\u001b[0;32m----> 1\u001b[0;31m \u001b[0mforecasting_dataset\u001b[0m \u001b[0;34m=\u001b[0m \u001b[0mforecasting_dataset\u001b[0m\u001b[0;34m.\u001b[0m\u001b[0massign\u001b[0m\u001b[0;34m(\u001b[0m\u001b[0mimplied_realized_gap_sq\u001b[0m\u001b[0;34m=\u001b[0m\u001b[0;32mlambda\u001b[0m \u001b[0md\u001b[0m\u001b[0;34m:\u001b[0m \u001b[0mnp\u001b[0m\u001b[0;34m.\u001b[0m\u001b[0mpower\u001b[0m\u001b[0;34m(\u001b[0m\u001b[0md\u001b[0m\u001b[0;34m[\u001b[0m\u001b[0;34m'vix'\u001b[0m\u001b[0;34m]\u001b[0m\u001b[0;34m,\u001b[0m \u001b[0;36m2\u001b[0m\u001b[0;34m)\u001b[0m\u001b[0;34m-\u001b[0m\u001b[0md\u001b[0m\u001b[0;34m[\u001b[0m\u001b[0;34m'rvol'\u001b[0m\u001b[0;34m]\u001b[0m\u001b[0;34m)\u001b[0m\u001b[0;34m\u001b[0m\u001b[0;34m\u001b[0m\u001b[0m\n\u001b[0m\u001b[1;32m      2\u001b[0m \u001b[0msmf\u001b[0m\u001b[0;34m.\u001b[0m\u001b[0mols\u001b[0m\u001b[0;34m(\u001b[0m\u001b[0;34m'mkt_rf ~ implied_realized_gap_sq'\u001b[0m\u001b[0;34m,\u001b[0m \u001b[0mforecasting_dataset\u001b[0m\u001b[0;34m)\u001b[0m\u001b[0;34m.\u001b[0m\u001b[0mfit\u001b[0m\u001b[0;34m(\u001b[0m\u001b[0;34m)\u001b[0m\u001b[0;34m.\u001b[0m\u001b[0msummary\u001b[0m\u001b[0;34m(\u001b[0m\u001b[0;34m)\u001b[0m\u001b[0;34m\u001b[0m\u001b[0;34m\u001b[0m\u001b[0m\n",
            "\u001b[0;31mNameError\u001b[0m: name 'forecasting_dataset' is not defined"
          ]
        }
      ]
    },
    {
      "cell_type": "code",
      "metadata": {
        "colab": {
          "base_uri": "https://localhost:8080/",
          "height": 237
        },
        "id": "mwTSdFDlHxYc",
        "outputId": "6085a173-c797-4774-b9c7-6f07fb58d43c"
      },
      "source": [
        "# sometimes, in some papers\n",
        "# we look at the log return\n",
        "# the predictor performs better because at a low frequency, market returns can have fat tails\n",
        "smf.ols('np.log(mkt_rf+1) ~ implied_realized_gap_sq', forecasting_dataset).fit().summary()"
      ],
      "execution_count": null,
      "outputs": [
        {
          "output_type": "error",
          "ename": "NameError",
          "evalue": "ignored",
          "traceback": [
            "\u001b[0;31m---------------------------------------------------------------------------\u001b[0m",
            "\u001b[0;31mNameError\u001b[0m                                 Traceback (most recent call last)",
            "\u001b[0;32m<ipython-input-2-0200001323e7>\u001b[0m in \u001b[0;36m<module>\u001b[0;34m()\u001b[0m\n\u001b[1;32m      2\u001b[0m \u001b[0;31m# we look at the log return\u001b[0m\u001b[0;34m\u001b[0m\u001b[0;34m\u001b[0m\u001b[0;34m\u001b[0m\u001b[0m\n\u001b[1;32m      3\u001b[0m \u001b[0;31m# the predictor performs better because at a low frequency, market returns can have fat tails\u001b[0m\u001b[0;34m\u001b[0m\u001b[0;34m\u001b[0m\u001b[0;34m\u001b[0m\u001b[0m\n\u001b[0;32m----> 4\u001b[0;31m \u001b[0msmf\u001b[0m\u001b[0;34m.\u001b[0m\u001b[0mols\u001b[0m\u001b[0;34m(\u001b[0m\u001b[0;34m'np.log(mkt_rf+1) ~ implied_realized_gap_sq'\u001b[0m\u001b[0;34m,\u001b[0m \u001b[0mforecasting_dataset\u001b[0m\u001b[0;34m)\u001b[0m\u001b[0;34m.\u001b[0m\u001b[0mfit\u001b[0m\u001b[0;34m(\u001b[0m\u001b[0;34m)\u001b[0m\u001b[0;34m.\u001b[0m\u001b[0msummary\u001b[0m\u001b[0;34m(\u001b[0m\u001b[0;34m)\u001b[0m\u001b[0;34m\u001b[0m\u001b[0;34m\u001b[0m\u001b[0m\n\u001b[0m",
            "\u001b[0;31mNameError\u001b[0m: name 'smf' is not defined"
          ]
        }
      ]
    },
    {
      "cell_type": "markdown",
      "metadata": {
        "id": "oo9buaaNHxYc"
      },
      "source": [
        "# newey west adjustment\n",
        "* when reporting the t-stat, the t-stat does not account for time-series autocorrelation\n",
        "* time-series stock returns are sometimes autocorrelated\n",
        "* sometimes this does not matter, sometimes it actually improves your results, sometimes it kills your results"
      ]
    },
    {
      "cell_type": "code",
      "metadata": {
        "colab": {
          "base_uri": "https://localhost:8080/",
          "height": 212
        },
        "id": "xGWDF0MdHxYc",
        "outputId": "70c1a810-6c16-41ec-b9f0-75a478a57dbe"
      },
      "source": [
        "# newey west adjustment\n",
        "# this is for the fact that at many horizons, returns are autocorrelated\n",
        "\n",
        "l = smf.ols('mkt_rf ~ implied_realized_gap', forecasting_dataset)\n",
        "\n",
        "l.fit(cov_type='HAC',cov_kwds={'maxlags':1}).summary().tables[1]\n",
        "l.fit(cov_type='HAC',cov_kwds={'maxlags':4}).summary().tables[1]\n",
        "l.fit(cov_type='HAC',cov_kwds={'maxlags':6}).summary().tables[1]\n",
        "\n",
        "# In this particular case, accounting for this autocorrelation actually helped us"
      ],
      "execution_count": null,
      "outputs": [
        {
          "output_type": "execute_result",
          "data": {
            "text/html": [
              "<table class=\"simpletable\">\n",
              "<tr>\n",
              "            <td></td>              <th>coef</th>     <th>std err</th>      <th>z</th>      <th>P>|z|</th>  <th>[0.025</th>    <th>0.975]</th>  \n",
              "</tr>\n",
              "<tr>\n",
              "  <th>Intercept</th>            <td>   -0.0134</td> <td>    0.005</td> <td>   -2.447</td> <td> 0.014</td> <td>   -0.024</td> <td>   -0.003</td>\n",
              "</tr>\n",
              "<tr>\n",
              "  <th>implied_realized_gap</th> <td>    0.3163</td> <td>    0.088</td> <td>    3.579</td> <td> 0.000</td> <td>    0.143</td> <td>    0.490</td>\n",
              "</tr>\n",
              "</table>"
            ],
            "text/plain": [
              "<class 'statsmodels.iolib.table.SimpleTable'>"
            ]
          },
          "metadata": {
            "tags": []
          },
          "execution_count": 57
        },
        {
          "output_type": "execute_result",
          "data": {
            "text/html": [
              "<table class=\"simpletable\">\n",
              "<tr>\n",
              "            <td></td>              <th>coef</th>     <th>std err</th>      <th>z</th>      <th>P>|z|</th>  <th>[0.025</th>    <th>0.975]</th>  \n",
              "</tr>\n",
              "<tr>\n",
              "  <th>Intercept</th>            <td>   -0.0134</td> <td>    0.005</td> <td>   -2.476</td> <td> 0.013</td> <td>   -0.024</td> <td>   -0.003</td>\n",
              "</tr>\n",
              "<tr>\n",
              "  <th>implied_realized_gap</th> <td>    0.3163</td> <td>    0.081</td> <td>    3.919</td> <td> 0.000</td> <td>    0.158</td> <td>    0.474</td>\n",
              "</tr>\n",
              "</table>"
            ],
            "text/plain": [
              "<class 'statsmodels.iolib.table.SimpleTable'>"
            ]
          },
          "metadata": {
            "tags": []
          },
          "execution_count": 57
        },
        {
          "output_type": "execute_result",
          "data": {
            "text/html": [
              "<table class=\"simpletable\">\n",
              "<tr>\n",
              "            <td></td>              <th>coef</th>     <th>std err</th>      <th>z</th>      <th>P>|z|</th>  <th>[0.025</th>    <th>0.975]</th>  \n",
              "</tr>\n",
              "<tr>\n",
              "  <th>Intercept</th>            <td>   -0.0134</td> <td>    0.005</td> <td>   -2.463</td> <td> 0.014</td> <td>   -0.024</td> <td>   -0.003</td>\n",
              "</tr>\n",
              "<tr>\n",
              "  <th>implied_realized_gap</th> <td>    0.3163</td> <td>    0.082</td> <td>    3.849</td> <td> 0.000</td> <td>    0.155</td> <td>    0.477</td>\n",
              "</tr>\n",
              "</table>"
            ],
            "text/plain": [
              "<class 'statsmodels.iolib.table.SimpleTable'>"
            ]
          },
          "metadata": {
            "tags": []
          },
          "execution_count": 57
        }
      ]
    },
    {
      "cell_type": "code",
      "metadata": {
        "id": "vy9bsqvEHxYc"
      },
      "source": [
        "s = l.fit(cov_type='HAC',cov_kwds={'maxlags':1}).summary2().tables[1]"
      ],
      "execution_count": null,
      "outputs": []
    },
    {
      "cell_type": "code",
      "metadata": {
        "id": "AwScD_ebHxYd"
      },
      "source": [
        ""
      ],
      "execution_count": null,
      "outputs": []
    },
    {
      "cell_type": "code",
      "metadata": {
        "id": "-7qkPPIsHxYd"
      },
      "source": [
        ""
      ],
      "execution_count": null,
      "outputs": []
    },
    {
      "cell_type": "code",
      "metadata": {
        "id": "_tJKsXhhHxYd"
      },
      "source": [
        ""
      ],
      "execution_count": null,
      "outputs": []
    },
    {
      "cell_type": "code",
      "metadata": {
        "id": "0ONjfNEjHxYd"
      },
      "source": [
        "# Rolling window - cumulative\n",
        "N=30 # example windows size\n",
        "\n",
        "keep = []\n",
        "for i in range(N, len(forecasting_dataset)+1):\n",
        "    a = smf.ols('np.log(mkt_rf+1) ~ implied_realized_gap', forecasting_dataset.iloc[:i]).fit()\\\n",
        "        .summary2().tables[1].loc['implied_realized_gap']\n",
        "    \n",
        "    a['dt'] = pd.to_datetime(forecasting_dataset.iloc[i-1]['trading_dt'])\n",
        "    # save the regressions into an array\n",
        "    keep.append(a)\n",
        "    \n",
        "keep = pd.DataFrame(keep).set_index('dt')\n",
        "keep['lower'] = keep['Coef.'] - keep['Std.Err.']\n",
        "keep['upper'] = keep['Coef.'] + keep['Std.Err.']"
      ],
      "execution_count": null,
      "outputs": []
    },
    {
      "cell_type": "code",
      "metadata": {
        "id": "pjJMijiwHxYd",
        "outputId": "f5d8fc9e-a383-46a1-ee11-e2392e4c49aa"
      },
      "source": [
        "# Make sure it doesn't look too big\n",
        "ax = keep[['Coef.', 'lower', 'upper']].plot(\n",
        "    title='this graph was made {}'.format(pd.Timestamp.today()),\n",
        "    color=['blue', 'red', 'red']\n",
        ")"
      ],
      "execution_count": null,
      "outputs": [
        {
          "output_type": "display_data",
          "data": {
            "image/png": "[encoded data removed]",
            "text/plain": [
              "<Figure size 756x432 with 1 Axes>"
            ]
          },
          "metadata": {
            "tags": [],
            "needs_background": "light"
          }
        }
      ]
    },
    {
      "cell_type": "markdown",
      "metadata": {
        "id": "VspNfJCzHxYe"
      },
      "source": [
        "# the above is a plot of$\\beta $ from the regression"
      ]
    },
    {
      "cell_type": "code",
      "metadata": {
        "id": "jKa5VsqUHxYe"
      },
      "source": [
        "# Rolling window - cumulative\n",
        "N=30 # example windows size\n",
        "\n",
        "keep = []\n",
        "for i in range(N, len(forecasting_dataset)+1):\n",
        "    a = smf.ols('np.log(mkt_rf+1) ~ implied_realized_gap', forecasting_dataset.iloc[i-30:i]).fit()\\\n",
        "        .summary2().tables[1].loc['implied_realized_gap']\n",
        "    \n",
        "    a['dt'] = pd.to_datetime(forecasting_dataset.iloc[i-1]['trading_dt'])\n",
        "    # save the regressions into an array\n",
        "    keep.append(a)\n",
        "    \n",
        "keep = pd.DataFrame(keep).set_index('dt')\n",
        "keep['lower'] = keep['Coef.'] - keep['Std.Err.']\n",
        "keep['upper'] = keep['Coef.'] + keep['Std.Err.']"
      ],
      "execution_count": null,
      "outputs": []
    },
    {
      "cell_type": "code",
      "metadata": {
        "colab": {
          "base_uri": "https://localhost:8080/",
          "height": 404
        },
        "id": "d2k7mDS1HxYe",
        "outputId": "21930055-274b-4886-af9d-0750bfb9ecc2"
      },
      "source": [
        "# Make sure it doesn't look too big\n",
        "ax = keep[['Coef.', 'lower', 'upper']].plot(\n",
        "    title='this graph was made {}'.format(pd.Timestamp.today()),\n",
        "    color=['blue', 'red', 'red']\n",
        ")"
      ],
      "execution_count": null,
      "outputs": [
        {
          "output_type": "display_data",
          "data": {
            "image/png": "[encoded data removed]",
            "text/plain": [
              "<Figure size 756x432 with 1 Axes>"
            ]
          },
          "metadata": {
            "tags": [],
            "needs_background": "light"
          }
        }
      ]
    },
    {
      "cell_type": "code",
      "metadata": {
        "colab": {
          "base_uri": "https://localhost:8080/",
          "height": 179
        },
        "id": "iQqHtZcRHxYe",
        "outputId": "f748e793-288c-4810-dab9-7baf93790a84"
      },
      "source": [
        "i = 30\n",
        "a = smf.ols('mkt_rf ~ implied_realized_gap', forecasting_dataset.iloc[:i]).fit()\\\n",
        "    .summary2().tables[1]\n",
        "a\n",
        "\n",
        "print('the coefficients')\n",
        "a['Coef.']\n",
        "print('access element one {}'.format(a['Coef.'].iloc[0]))"
      ],
      "execution_count": null,
      "outputs": [
        {
          "output_type": "execute_result",
          "data": {
            "text/html": [
              "<div>\n",
              "<style scoped>\n",
              "    .dataframe tbody tr th:only-of-type {\n",
              "        vertical-align: middle;\n",
              "    }\n",
              "\n",
              "    .dataframe tbody tr th {\n",
              "        vertical-align: top;\n",
              "    }\n",
              "\n",
              "    .dataframe thead th {\n",
              "        text-align: right;\n",
              "    }\n",
              "</style>\n",
              "<table border=\"1\" class=\"dataframe\">\n",
              "  <thead>\n",
              "    <tr style=\"text-align: right;\">\n",
              "      <th></th>\n",
              "      <th>Coef.</th>\n",
              "      <th>Std.Err.</th>\n",
              "      <th>t</th>\n",
              "      <th>P&gt;|t|</th>\n",
              "      <th>[0.025</th>\n",
              "      <th>0.975]</th>\n",
              "    </tr>\n",
              "  </thead>\n",
              "  <tbody>\n",
              "    <tr>\n",
              "      <th>Intercept</th>\n",
              "      <td>-0.036384</td>\n",
              "      <td>0.019247</td>\n",
              "      <td>-1.890377</td>\n",
              "      <td>0.069099</td>\n",
              "      <td>-0.075809</td>\n",
              "      <td>0.003042</td>\n",
              "    </tr>\n",
              "    <tr>\n",
              "      <th>implied_realized_gap</th>\n",
              "      <td>0.369601</td>\n",
              "      <td>0.294885</td>\n",
              "      <td>1.253374</td>\n",
              "      <td>0.220435</td>\n",
              "      <td>-0.234443</td>\n",
              "      <td>0.973645</td>\n",
              "    </tr>\n",
              "  </tbody>\n",
              "</table>\n",
              "</div>"
            ],
            "text/plain": [
              "                         Coef.  Std.Err.  ...    [0.025    0.975]\n",
              "Intercept            -0.036384  0.019247  ... -0.075809  0.003042\n",
              "implied_realized_gap  0.369601  0.294885  ... -0.234443  0.973645\n",
              "\n",
              "[2 rows x 6 columns]"
            ]
          },
          "metadata": {
            "tags": []
          },
          "execution_count": 63
        },
        {
          "output_type": "stream",
          "text": [
            "the coefficients\n"
          ],
          "name": "stdout"
        },
        {
          "output_type": "execute_result",
          "data": {
            "text/plain": [
              "Intercept              -0.036384\n",
              "implied_realized_gap    0.369601\n",
              "Name: Coef., dtype: float64"
            ]
          },
          "metadata": {
            "tags": []
          },
          "execution_count": 63
        },
        {
          "output_type": "stream",
          "text": [
            "access element one -0.03638395105659429\n"
          ],
          "name": "stdout"
        }
      ]
    },
    {
      "cell_type": "code",
      "metadata": {
        "id": "5WBWzIgmHxYf"
      },
      "source": [
        "# OOS r-squared\n",
        "keep = []\n",
        "N = 40\n",
        "forecasting_dataset = forecasting_dataset.assign(mkt_rf_log = lambda d: np.log(d['mkt_rf']+1))\n",
        "\n",
        "# go from when we have 30 periods to the last point -1 (since we cant look ahead when we're at the end)\n",
        "\n",
        "date_range = range(N, len(forecasting_dataset))\n",
        "\n",
        "for i in date_range:\n",
        "    a = smf.ols('mkt_rf_log ~ implied_realized_gap', forecasting_dataset.iloc[:i]).fit()\\\n",
        "        .summary2().tables[1]\n",
        "    # Predict the next month out of sample\n",
        "    next_y = forecasting_dataset.iloc[i]['mkt_rf_log']\n",
        "    predicted_x = a['Coef.'].iloc[0] + \\\n",
        "        a['Coef.'].iloc[1] * forecasting_dataset.iloc[i]['implied_realized_gap']\n",
        "    \n",
        "    error = np.abs(predicted_x - next_y)\n",
        "    keep.append({'error': error, 'i': i})\n",
        "    \n",
        "keep = pd.DataFrame(keep)\n",
        "    "
      ],
      "execution_count": null,
      "outputs": []
    },
    {
      "cell_type": "code",
      "metadata": {
        "colab": {
          "base_uri": "https://localhost:8080/"
        },
        "id": "0BPrA9ZOHxYf",
        "outputId": "b5363c15-3e4b-4877-e49f-a79e60759b4c"
      },
      "source": [
        "SSE = np.sum(keep['error'] ** 2)\n",
        "SST = np.sum((forecasting_dataset.loc[date_range]['mkt_rf_log'] - np.mean(forecasting_dataset.loc[date_range]['mkt_rf_log'])) ** 2)\n",
        "print('out of sample r-squared: {}'.format(1-SSE/SST))"
      ],
      "execution_count": null,
      "outputs": [
        {
          "output_type": "stream",
          "text": [
            "out of sample r-squared: 0.036719089717176856\n"
          ],
          "name": "stdout"
        }
      ]
    },
    {
      "cell_type": "code",
      "metadata": {
        "id": "B_uDikmCHxYf"
      },
      "source": [
        ""
      ],
      "execution_count": null,
      "outputs": []
    }
  ]
}